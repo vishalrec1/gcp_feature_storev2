{
 "cells": [
  {
   "cell_type": "code",
   "execution_count": 15,
   "id": "7d89907c-75d8-40ed-ab7e-0708517d2198",
   "metadata": {
    "tags": []
   },
   "outputs": [],
   "source": [
    "from vertexai.resources.preview import FeatureOnlineStore,FeatureViewBigQuerySource"
   ]
  },
  {
   "cell_type": "code",
   "execution_count": 12,
   "id": "8facf6ef-97e1-48e4-9ef8-a60a2ce42845",
   "metadata": {
    "tags": []
   },
   "outputs": [
    {
     "data": {
      "text/plain": [
       "[<vertexai.resources.preview.feature_store.feature_online_store.FeatureOnlineStore object at 0x7f5a8b020310> \n",
       " resource name: projects/932910293196/locations/us-central1/featureOnlineStores/product_online_ftr_str]"
      ]
     },
     "execution_count": 12,
     "metadata": {},
     "output_type": "execute_result"
    }
   ],
   "source": [
    "FeatureOnlineStore.list()"
   ]
  },
  {
   "cell_type": "code",
   "execution_count": 13,
   "id": "5061459c-8424-4880-8eb0-24e8a4d8dc11",
   "metadata": {
    "tags": []
   },
   "outputs": [],
   "source": [
    "my_ftr_store = FeatureOnlineStore('product_online_ftr_str')"
   ]
  },
  {
   "cell_type": "code",
   "execution_count": 14,
   "id": "d73da3c9-773a-414e-8906-c472ab8dc02e",
   "metadata": {
    "tags": []
   },
   "outputs": [],
   "source": [
    "FEATURE_VIEW_ID = \"product_ftr_view_bq_src\""
   ]
  },
  {
   "cell_type": "code",
   "execution_count": 18,
   "id": "03242dd6-292d-473e-a9c9-131e790d604f",
   "metadata": {
    "tags": []
   },
   "outputs": [],
   "source": [
    "ftr_vw_bq_src = FeatureViewBigQuerySource(uri = 'bq://innov-mtwr-6eqv-1.bq_feature_store2.product_data',\n",
    "                                          entity_id_columns = ['entity_id']\n",
    "                                         )"
   ]
  },
  {
   "cell_type": "code",
   "execution_count": 19,
   "id": "260529d5-705a-47f0-b723-5df0bf45fcea",
   "metadata": {
    "tags": []
   },
   "outputs": [
    {
     "name": "stdout",
     "output_type": "stream",
     "text": [
      "Creating FeatureView\n",
      "Create FeatureView backing LRO: projects/932910293196/locations/us-central1/featureOnlineStores/product_online_ftr_str/featureViews/product_ftr_view_bq_src/operations/8146555737825345536\n",
      "FeatureView created. Resource name: projects/932910293196/locations/us-central1/featureOnlineStores/product_online_ftr_str/featureViews/product_ftr_view_bq_src\n",
      "To use this FeatureView in another session:\n",
      "feature_view = aiplatform.FeatureView('projects/932910293196/locations/us-central1/featureOnlineStores/product_online_ftr_str/featureViews/product_ftr_view_bq_src')\n"
     ]
    }
   ],
   "source": [
    "my_ftr_vw = my_ftr_store.create_feature_view(name   = FEATURE_VIEW_ID,\n",
    "                                             source = ftr_vw_bq_src,\n",
    "                                            )"
   ]
  },
  {
   "cell_type": "code",
   "execution_count": null,
   "id": "85e4f05b-bf45-48e6-ba55-eb41612959ab",
   "metadata": {},
   "outputs": [],
   "source": []
  },
  {
   "cell_type": "code",
   "execution_count": null,
   "id": "1e8cd182-cc96-4c46-a592-78600547c4be",
   "metadata": {},
   "outputs": [],
   "source": []
  },
  {
   "cell_type": "code",
   "execution_count": null,
   "id": "63581a59-07b7-4067-8cb6-1770d11dfa73",
   "metadata": {},
   "outputs": [],
   "source": []
  }
 ],
 "metadata": {
  "environment": {
   "kernel": "python3",
   "name": "common-cpu.m121",
   "type": "gcloud",
   "uri": "us-docker.pkg.dev/deeplearning-platform-release/gcr.io/base-cpu:m121"
  },
  "kernelspec": {
   "display_name": "Python 3 (Local)",
   "language": "python",
   "name": "python3"
  },
  "language_info": {
   "codemirror_mode": {
    "name": "ipython",
    "version": 3
   },
   "file_extension": ".py",
   "mimetype": "text/x-python",
   "name": "python",
   "nbconvert_exporter": "python",
   "pygments_lexer": "ipython3",
   "version": "3.10.14"
  }
 },
 "nbformat": 4,
 "nbformat_minor": 5
}
