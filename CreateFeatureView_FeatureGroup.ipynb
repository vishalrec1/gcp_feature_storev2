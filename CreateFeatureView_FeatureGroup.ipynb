{
 "cells": [
  {
   "cell_type": "code",
   "execution_count": null,
   "id": "143fbc2b-004e-49c3-87bc-8559ee74c626",
   "metadata": {},
   "outputs": [],
   "source": [
    "from vertexai.resources.preview import FeatureOnlineStore,FeatureViewBigQuerySource"
   ]
  },
  {
   "cell_type": "code",
   "execution_count": null,
   "id": "de655963-477e-46ac-9a67-9ac731b12bae",
   "metadata": {},
   "outputs": [],
   "source": [
    "FeatureOnlineStore.list()"
   ]
  },
  {
   "cell_type": "code",
   "execution_count": null,
   "id": "d6d8b516-3506-43bd-bc4f-cffdf044e54e",
   "metadata": {},
   "outputs": [],
   "source": [
    "my_ftr_store = FeatureOnlineStore('product_online_ftr_str')"
   ]
  },
  {
   "cell_type": "code",
   "execution_count": null,
   "id": "4591423a-5479-4b56-bc5c-ed35f7e3ebb6",
   "metadata": {},
   "outputs": [],
   "source": [
    "FEATURE_VIEW_ID = \"product_fv_ftr_grp_src\""
   ]
  },
  {
   "cell_type": "code",
   "execution_count": null,
   "id": "d9b4abf2-04c1-41ce-8215-4d7ad640bab1",
   "metadata": {},
   "outputs": [],
   "source": []
  },
  {
   "cell_type": "code",
   "execution_count": null,
   "id": "5f37a471-a160-4a34-9ba0-ffd1578b4405",
   "metadata": {},
   "outputs": [],
   "source": []
  },
  {
   "cell_type": "code",
   "execution_count": null,
   "id": "cb037405-336c-4d11-af46-5430ef9ff05c",
   "metadata": {},
   "outputs": [],
   "source": []
  },
  {
   "cell_type": "code",
   "execution_count": null,
   "id": "0f94c3ee-0b29-4515-aa8a-dabb168d33d5",
   "metadata": {},
   "outputs": [],
   "source": []
  }
 ],
 "metadata": {
  "environment": {
   "kernel": "python3",
   "name": "common-cpu.m121",
   "type": "gcloud",
   "uri": "us-docker.pkg.dev/deeplearning-platform-release/gcr.io/base-cpu:m121"
  },
  "kernelspec": {
   "display_name": "Python 3 (Local)",
   "language": "python",
   "name": "python3"
  },
  "language_info": {
   "codemirror_mode": {
    "name": "ipython",
    "version": 3
   },
   "file_extension": ".py",
   "mimetype": "text/x-python",
   "name": "python",
   "nbconvert_exporter": "python",
   "pygments_lexer": "ipython3",
   "version": "3.10.14"
  }
 },
 "nbformat": 4,
 "nbformat_minor": 5
}
