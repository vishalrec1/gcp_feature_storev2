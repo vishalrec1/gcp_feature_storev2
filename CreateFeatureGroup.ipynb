{
 "cells": [
  {
   "cell_type": "code",
   "execution_count": 8,
   "id": "2fc1d85d-42de-4e59-bf43-c628bb121862",
   "metadata": {
    "tags": []
   },
   "outputs": [],
   "source": [
    "from google.cloud.aiplatform_v1beta1.types import feature_group\n",
    "from google.cloud.aiplatform_v1beta1.types import io"
   ]
  },
  {
   "cell_type": "code",
   "execution_count": 9,
   "id": "f4cf58bf-9652-4779-a19f-a2b9281582c1",
   "metadata": {
    "tags": []
   },
   "outputs": [],
   "source": [
    "FEATURE_GROUP_ID = \"product_ftrs_unique\"  # @param {type: \"string\"}\n",
    "\n",
    "FEATURE_IDS = [\n",
    "    \"good_order_count\",\n",
    "    \"bad_order_count\",\n",
    "    \"category\",\n",
    "    \"name\",\n",
    "    \"brand\",\n",
    "    \"cost\",\n",
    "    \"retail_price\",\n",
    "]"
   ]
  },
  {
   "cell_type": "code",
   "execution_count": 10,
   "id": "032b9e00-5f96-4ab7-b9c5-1f4dd62986ef",
   "metadata": {
    "tags": []
   },
   "outputs": [],
   "source": [
    "big_query_source = io.BigQuerySource(input_uri = 'bq://innov-mtwr-6eqv-1.bq_feature_store2.product_data')"
   ]
  },
  {
   "cell_type": "code",
   "execution_count": 11,
   "id": "5268e2e9-7f0f-4edb-8c56-a50667853779",
   "metadata": {
    "tags": []
   },
   "outputs": [],
   "source": [
    "big_query = feature_group.FeatureGroup.BigQuery(big_query_source = big_query_source)"
   ]
  },
  {
   "cell_type": "code",
   "execution_count": 12,
   "id": "83d6217e-b3e6-43c3-9a5a-f9739a6af038",
   "metadata": {
    "tags": []
   },
   "outputs": [],
   "source": [
    "feature_group_config = feature_group.FeatureGroup(big_query=big_query)"
   ]
  },
  {
   "cell_type": "code",
   "execution_count": null,
   "id": "af35215d-7964-46fa-b88e-58febb8a545a",
   "metadata": {},
   "outputs": [],
   "source": []
  },
  {
   "cell_type": "code",
   "execution_count": 21,
   "id": "4f79a600-705b-4953-b72a-2df9ed43c2bc",
   "metadata": {
    "tags": []
   },
   "outputs": [],
   "source": [
    "from google.cloud.aiplatform_v1beta1 import FeatureRegistryServiceClient\n",
    "from google.cloud.aiplatform_v1beta1.types import feature_registry_service\n",
    "from google.cloud.aiplatform_v1beta1.types import featurestore_service\n",
    "from google.cloud.aiplatform_v1beta1.types import feature"
   ]
  },
  {
   "cell_type": "code",
   "execution_count": 14,
   "id": "49de4b98-9fdc-4d95-a89f-7d758a05575b",
   "metadata": {
    "tags": []
   },
   "outputs": [],
   "source": [
    "PROJECT_ID   = 'innov-mtwr-6eqv-1'\n",
    "LOCATION     = \"us-central1\"  # @param {type:\"string\"}\n",
    "API_ENDPOINT = f\"{LOCATION}-aiplatform.googleapis.com\""
   ]
  },
  {
   "cell_type": "code",
   "execution_count": 15,
   "id": "0f10878f-77fa-4fe5-aa0b-b44c87c23cd2",
   "metadata": {
    "tags": []
   },
   "outputs": [],
   "source": [
    "registry_client = FeatureRegistryServiceClient( client_options={\"api_endpoint\": API_ENDPOINT})"
   ]
  },
  {
   "cell_type": "code",
   "execution_count": 17,
   "id": "d7ce2059-1413-431a-9419-d40d87729b36",
   "metadata": {
    "tags": []
   },
   "outputs": [],
   "source": [
    "ftr_grp_request = feature_registry_service.CreateFeatureGroupRequest(\n",
    "                                                                        parent           = f\"projects/{PROJECT_ID}/locations/{LOCATION}\",\n",
    "                                                                        feature_group_id = FEATURE_GROUP_ID,\n",
    "                                                                        feature_group    = feature_group_config,\n",
    "                                                                    )"
   ]
  },
  {
   "cell_type": "code",
   "execution_count": null,
   "id": "a08a96a0-f165-47c7-8106-734e20169ae3",
   "metadata": {},
   "outputs": [],
   "source": []
  },
  {
   "cell_type": "code",
   "execution_count": null,
   "id": "16e41b3a-dd42-41ba-9f22-e1c531240dfb",
   "metadata": {},
   "outputs": [],
   "source": []
  },
  {
   "cell_type": "code",
   "execution_count": 18,
   "id": "132f5c70-16ad-48cb-ad10-cd0aa264a59e",
   "metadata": {
    "tags": []
   },
   "outputs": [],
   "source": [
    "create_ftr_grp = registry_client.create_feature_group(request=ftr_grp_request)"
   ]
  },
  {
   "cell_type": "code",
   "execution_count": 19,
   "id": "675589d6-f611-42f5-a440-41d0dfb2b7a9",
   "metadata": {
    "tags": []
   },
   "outputs": [
    {
     "data": {
      "text/plain": [
       "name: \"projects/932910293196/locations/us-central1/featureGroups/product_ftrs_unique\""
      ]
     },
     "execution_count": 19,
     "metadata": {},
     "output_type": "execute_result"
    }
   ],
   "source": [
    "create_ftr_grp.result()"
   ]
  },
  {
   "cell_type": "code",
   "execution_count": null,
   "id": "1441b3c6-1b80-4995-944b-4cc77808e417",
   "metadata": {},
   "outputs": [],
   "source": []
  },
  {
   "cell_type": "code",
   "execution_count": 22,
   "id": "4602a784-deaa-4a32-85fd-90c246af9b6e",
   "metadata": {
    "tags": []
   },
   "outputs": [],
   "source": [
    "create_feature_lros = []"
   ]
  },
  {
   "cell_type": "code",
   "execution_count": 23,
   "id": "f83f05fb-7247-460f-bd45-300df1ac1bdb",
   "metadata": {
    "tags": []
   },
   "outputs": [],
   "source": [
    "for id in FEATURE_IDS:\n",
    "    crt_ftr_request = featurestore_service.CreateFeatureRequest(parent           = f\"projects/{PROJECT_ID}/locations/{LOCATION}/featureGroups/{FEATURE_GROUP_ID}\",\n",
    "                                                                feature_id       = id,\n",
    "                                                                feature          = feature.Feature(),                                             \n",
    "                                                               )\n",
    "    create_feature_lros.append(registry_client.create_feature(request = crt_ftr_request))"
   ]
  },
  {
   "cell_type": "code",
   "execution_count": 24,
   "id": "93150492-1389-4501-8ad3-a0510a763159",
   "metadata": {
    "tags": []
   },
   "outputs": [
    {
     "data": {
      "text/plain": [
       "[<google.api_core.operation.Operation at 0x7f4c235c2920>,\n",
       " <google.api_core.operation.Operation at 0x7f4c235c25c0>,\n",
       " <google.api_core.operation.Operation at 0x7f4c0d8965c0>,\n",
       " <google.api_core.operation.Operation at 0x7f4c0daac700>,\n",
       " <google.api_core.operation.Operation at 0x7f4c0daad330>,\n",
       " <google.api_core.operation.Operation at 0x7f4c0daac640>,\n",
       " <google.api_core.operation.Operation at 0x7f4c0daae5c0>]"
      ]
     },
     "execution_count": 24,
     "metadata": {},
     "output_type": "execute_result"
    }
   ],
   "source": [
    "create_feature_lros"
   ]
  },
  {
   "cell_type": "code",
   "execution_count": 25,
   "id": "938f0d9e-b310-46ef-994c-2e34a1674afa",
   "metadata": {
    "tags": []
   },
   "outputs": [
    {
     "name": "stdout",
     "output_type": "stream",
     "text": [
      "name: \"projects/932910293196/locations/us-central1/featureGroups/product_ftrs_unique/features/good_order_count\"\n",
      "\n",
      "name: \"projects/932910293196/locations/us-central1/featureGroups/product_ftrs_unique/features/bad_order_count\"\n",
      "\n",
      "name: \"projects/932910293196/locations/us-central1/featureGroups/product_ftrs_unique/features/category\"\n",
      "\n",
      "name: \"projects/932910293196/locations/us-central1/featureGroups/product_ftrs_unique/features/name\"\n",
      "\n",
      "name: \"projects/932910293196/locations/us-central1/featureGroups/product_ftrs_unique/features/brand\"\n",
      "\n",
      "name: \"projects/932910293196/locations/us-central1/featureGroups/product_ftrs_unique/features/cost\"\n",
      "\n",
      "name: \"projects/932910293196/locations/us-central1/featureGroups/product_ftrs_unique/features/retail_price\"\n",
      "\n"
     ]
    }
   ],
   "source": [
    "for lro in create_feature_lros:\n",
    "    print(lro.result())"
   ]
  },
  {
   "cell_type": "code",
   "execution_count": null,
   "id": "3b20c321-1e6c-4b4f-8659-4ebdf5055e05",
   "metadata": {},
   "outputs": [],
   "source": []
  }
 ],
 "metadata": {
  "environment": {
   "kernel": "python3",
   "name": "common-cpu.m121",
   "type": "gcloud",
   "uri": "us-docker.pkg.dev/deeplearning-platform-release/gcr.io/base-cpu:m121"
  },
  "kernelspec": {
   "display_name": "Python 3 (Local)",
   "language": "python",
   "name": "python3"
  },
  "language_info": {
   "codemirror_mode": {
    "name": "ipython",
    "version": 3
   },
   "file_extension": ".py",
   "mimetype": "text/x-python",
   "name": "python",
   "nbconvert_exporter": "python",
   "pygments_lexer": "ipython3",
   "version": "3.10.14"
  }
 },
 "nbformat": 4,
 "nbformat_minor": 5
}
