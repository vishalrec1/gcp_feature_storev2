{
 "cells": [
  {
   "cell_type": "code",
   "execution_count": 1,
   "id": "13bcb3f6-5ec1-44a6-879a-e580405d96bc",
   "metadata": {
    "tags": []
   },
   "outputs": [],
   "source": [
    "from google.cloud import aiplatform,bigquery\n",
    "from datetime import datetime"
   ]
  },
  {
   "cell_type": "code",
   "execution_count": 22,
   "id": "94d6009c-f5e9-4b50-aad3-1fc615eb335e",
   "metadata": {
    "tags": []
   },
   "outputs": [],
   "source": [
    "PROJECT_ID = 'innov-mtwr-6eqv-1'\n",
    "LOCATION = 'us-central1'\n",
    "#LOCATION = \"US\"\n",
    "DATASET_ID = 'bq_feature_store2'"
   ]
  },
  {
   "cell_type": "code",
   "execution_count": 23,
   "id": "33636dcb-e0d8-460b-9d74-4464b809e4ac",
   "metadata": {
    "tags": []
   },
   "outputs": [],
   "source": [
    "aiplatform.init(project=PROJECT_ID,location=LOCATION)"
   ]
  },
  {
   "cell_type": "code",
   "execution_count": 24,
   "id": "a6c4c4f6-1c9c-42bf-8efa-ff684900ec1f",
   "metadata": {
    "tags": []
   },
   "outputs": [],
   "source": [
    "bq_client = bigquery.Client(project=PROJECT_ID,location=LOCATION)"
   ]
  },
  {
   "cell_type": "code",
   "execution_count": 25,
   "id": "a891eb1c-3c84-4a59-8da2-8008ab7ee4ce",
   "metadata": {
    "tags": []
   },
   "outputs": [
    {
     "data": {
      "text/plain": [
       "'synthetic_data_2024-06-11T19-58-49.csv'"
      ]
     },
     "execution_count": 25,
     "metadata": {},
     "output_type": "execute_result"
    }
   ],
   "source": [
    "dttm = datetime.now().strftime('%Y-%m-%dT%H-%M-%S')\n",
    "file_name = 'synthetic_data_'+dttm+'.csv'\n",
    "file_name"
   ]
  },
  {
   "cell_type": "code",
   "execution_count": 14,
   "id": "dbd0c8ea-a63c-40bb-b27b-f3e87b1a6187",
   "metadata": {
    "tags": []
   },
   "outputs": [
    {
     "data": {
      "text/plain": [
       "ExtractJob<project=innov-mtwr-6eqv-1, location=us-central1, id=384af806-9fdf-4185-bbdb-bc009a2e9939>"
      ]
     },
     "execution_count": 14,
     "metadata": {},
     "output_type": "execute_result"
    }
   ],
   "source": [
    "bq_client.extract_table(#source = f\"{PROJECT_ID}.{DATASET_ID}.complaint_data\",\n",
    "                        source='innov-mtwr-6eqv-1.bq_feature_store.customer_20240605',\n",
    "                        destination_uris = 'gs://ilab-vishal-bucket/complaint-database/files/'+file_name"
   ]
  },
  {
   "cell_type": "code",
   "execution_count": null,
   "id": "b1526978-b790-478a-97d8-9af8238c3215",
   "metadata": {},
   "outputs": [],
   "source": []
  }
 ],
 "metadata": {
  "environment": {
   "kernel": "python3",
   "name": "common-cpu.m121",
   "type": "gcloud",
   "uri": "us-docker.pkg.dev/deeplearning-platform-release/gcr.io/base-cpu:m121"
  },
  "kernelspec": {
   "display_name": "Python 3 (Local)",
   "language": "python",
   "name": "python3"
  },
  "language_info": {
   "codemirror_mode": {
    "name": "ipython",
    "version": 3
   },
   "file_extension": ".py",
   "mimetype": "text/x-python",
   "name": "python",
   "nbconvert_exporter": "python",
   "pygments_lexer": "ipython3",
   "version": "3.10.14"
  }
 },
 "nbformat": 4,
 "nbformat_minor": 5
}
