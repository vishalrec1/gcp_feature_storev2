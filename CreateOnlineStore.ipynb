{
 "cells": [
  {
   "cell_type": "code",
   "execution_count": 1,
   "id": "a8d95262-204c-41d1-bd93-abfe1e808ee7",
   "metadata": {
    "tags": []
   },
   "outputs": [],
   "source": [
    "from google.cloud import aiplatform"
   ]
  },
  {
   "cell_type": "code",
   "execution_count": 2,
   "id": "400cac44-5d9a-41b8-8301-238bfb5d9ea1",
   "metadata": {
    "tags": []
   },
   "outputs": [],
   "source": [
    "PROJECT_ID   = 'innov-mtwr-6eqv-1'\n",
    "LOCATION     = \"us-central1\"  # @param {type:\"string\"}\n",
    "API_ENDPOINT = f\"{LOCATION}-aiplatform.googleapis.com\""
   ]
  },
  {
   "cell_type": "code",
   "execution_count": 3,
   "id": "01985fd1-1bf9-4dab-894f-dd413b0056f1",
   "metadata": {
    "tags": []
   },
   "outputs": [],
   "source": [
    "aiplatform.init(project=PROJECT_ID, location=LOCATION)"
   ]
  },
  {
   "cell_type": "code",
   "execution_count": 19,
   "id": "40e0f3b7-d877-402f-ac49-7d337fd9833d",
   "metadata": {
    "tags": []
   },
   "outputs": [],
   "source": [
    "from google.cloud.aiplatform_v1beta1.types import feature_online_store\n",
    "from google.cloud.aiplatform_v1beta1.types import feature_online_store_admin_service\n",
    "from google.cloud.aiplatform_v1beta1.types import FeatureOnlineStore\n",
    "from google.cloud.aiplatform_v1beta1.types import service_networking"
   ]
  },
  {
   "cell_type": "code",
   "execution_count": 13,
   "id": "48204429-1dcf-4ef0-8a49-d0aaf43c9136",
   "metadata": {
    "tags": []
   },
   "outputs": [],
   "source": [
    "optimized_online_store      = FeatureOnlineStore.Optimized()"
   ]
  },
  {
   "cell_type": "code",
   "execution_count": 14,
   "id": "11ef4b24-b2ef-4ecf-9ef4-991152ef0104",
   "metadata": {
    "tags": []
   },
   "outputs": [],
   "source": [
    "pvt_service_connect_config  = service_networking.PrivateServiceConnectConfig(enable_private_service_connect = True,project_allowlist = [PROJECT_ID])"
   ]
  },
  {
   "cell_type": "code",
   "execution_count": 15,
   "id": "a0cc6d11-43c7-4b21-8ea5-6d19b2aa409f",
   "metadata": {
    "tags": []
   },
   "outputs": [],
   "source": [
    "dedicated_endpoint          = FeatureOnlineStore.DedicatedServingEndpoint(private_service_connect_config = pvt_service_connect_config)"
   ]
  },
  {
   "cell_type": "code",
   "execution_count": 16,
   "id": "d98f51ce-d2da-4e3e-be74-0a241bf0d5b2",
   "metadata": {
    "tags": []
   },
   "outputs": [],
   "source": [
    "feature_online_store_cnfg = feature_online_store.FeatureOnlineStore( optimized                  = optimized_online_store,\n",
    "                                                                     dedicated_serving_endpoint = dedicated_endpoint\n",
    "                                                                   )"
   ]
  },
  {
   "cell_type": "code",
   "execution_count": 20,
   "id": "03bd769d-f970-4f5f-80c8-0a121e02a640",
   "metadata": {
    "tags": []
   },
   "outputs": [
    {
     "data": {
      "text/plain": [
       "dedicated_serving_endpoint {\n",
       "  private_service_connect_config {\n",
       "    enable_private_service_connect: true\n",
       "    project_allowlist: \"innov-mtwr-6eqv-1\"\n",
       "  }\n",
       "}\n",
       "optimized {\n",
       "}"
      ]
     },
     "execution_count": 20,
     "metadata": {},
     "output_type": "execute_result"
    }
   ],
   "source": [
    "feature_online_store_cnfg"
   ]
  },
  {
   "cell_type": "code",
   "execution_count": 17,
   "id": "8a7d08f7-1240-4cd6-ae42-37370f7d7419",
   "metadata": {
    "tags": []
   },
   "outputs": [],
   "source": [
    "from google.cloud.aiplatform_v1beta1 import FeatureOnlineStoreAdminServiceClient"
   ]
  },
  {
   "cell_type": "code",
   "execution_count": 22,
   "id": "887ebc07-1583-465e-bd8d-bab5bff70d62",
   "metadata": {
    "tags": []
   },
   "outputs": [],
   "source": [
    "FEATURE_ONLINE_STORE_ID = 'product_online_ftr_str'"
   ]
  },
  {
   "cell_type": "code",
   "execution_count": 23,
   "id": "442c4244-5c2b-4f2f-a01b-38264417de01",
   "metadata": {
    "tags": []
   },
   "outputs": [],
   "source": [
    "admin_client = FeatureOnlineStoreAdminServiceClient(client_options={\"api_endpoint\": API_ENDPOINT})"
   ]
  },
  {
   "cell_type": "code",
   "execution_count": 24,
   "id": "d9ec89b8-15d4-4246-9b74-2736a965dfb3",
   "metadata": {
    "tags": []
   },
   "outputs": [],
   "source": [
    "request =     feature_online_store_admin_service.CreateFeatureOnlineStoreRequest( parent                  = f\"projects/{PROJECT_ID}/locations/{LOCATION}\",\n",
    "                                                                                  feature_online_store_id = FEATURE_ONLINE_STORE_ID,\n",
    "                                                                                  feature_online_store    = feature_online_store_cnfg,\n",
    "                                                                                )"
   ]
  },
  {
   "cell_type": "code",
   "execution_count": 25,
   "id": "b226e52f-63dd-498c-9d2e-212fd7d2ecae",
   "metadata": {
    "tags": []
   },
   "outputs": [],
   "source": [
    "create_store_lro = admin_client.create_feature_online_store(request=request)"
   ]
  },
  {
   "cell_type": "code",
   "execution_count": 26,
   "id": "720adf25-cb55-4187-8170-a1799c68b42f",
   "metadata": {
    "tags": []
   },
   "outputs": [
    {
     "data": {
      "text/plain": [
       "<google.api_core.operation.Operation at 0x7f62eef338b0>"
      ]
     },
     "execution_count": 26,
     "metadata": {},
     "output_type": "execute_result"
    }
   ],
   "source": [
    "create_store_lro"
   ]
  },
  {
   "cell_type": "code",
   "execution_count": 27,
   "id": "8196b07e-27bf-488b-8b30-353968470327",
   "metadata": {
    "tags": []
   },
   "outputs": [
    {
     "name": "stdout",
     "output_type": "stream",
     "text": [
      "name: \"projects/932910293196/locations/us-central1/featureOnlineStores/product_online_ftr_str\"\n",
      "\n"
     ]
    }
   ],
   "source": [
    "print(create_store_lro.result())"
   ]
  },
  {
   "cell_type": "code",
   "execution_count": null,
   "id": "016a9b8c-5cca-4866-a743-59adbf7ea6aa",
   "metadata": {},
   "outputs": [],
   "source": []
  }
 ],
 "metadata": {
  "environment": {
   "kernel": "python3",
   "name": "common-cpu.m121",
   "type": "gcloud",
   "uri": "us-docker.pkg.dev/deeplearning-platform-release/gcr.io/base-cpu:m121"
  },
  "kernelspec": {
   "display_name": "Python 3 (Local)",
   "language": "python",
   "name": "python3"
  },
  "language_info": {
   "codemirror_mode": {
    "name": "ipython",
    "version": 3
   },
   "file_extension": ".py",
   "mimetype": "text/x-python",
   "name": "python",
   "nbconvert_exporter": "python",
   "pygments_lexer": "ipython3",
   "version": "3.10.14"
  }
 },
 "nbformat": 4,
 "nbformat_minor": 5
}
