{
 "cells": [
  {
   "cell_type": "code",
   "execution_count": 2,
   "id": "6db50f8b-9dc5-448c-b903-c907d1c3a122",
   "metadata": {
    "tags": []
   },
   "outputs": [],
   "source": [
    "from google.cloud import aiplatform\n",
    "from google.cloud import bigquery"
   ]
  },
  {
   "cell_type": "code",
   "execution_count": 3,
   "id": "493eee8e-9359-4880-a72c-8bd805f50c96",
   "metadata": {
    "tags": []
   },
   "outputs": [],
   "source": [
    "from google.cloud.aiplatform_v1beta1 import (FeatureOnlineStoreAdminServiceClient, FeatureRegistryServiceClient)"
   ]
  },
  {
   "cell_type": "code",
   "execution_count": 4,
   "id": "0a626a16-a4a8-4dfa-817e-02f9a0fbe2c9",
   "metadata": {
    "tags": []
   },
   "outputs": [],
   "source": [
    "from google.cloud.aiplatform_v1beta1.types import feature as feature_pb2\n",
    "from google.cloud.aiplatform_v1beta1.types import feature_group as feature_group_pb2\n",
    "from google.cloud.aiplatform_v1beta1.types import feature_online_store as feature_online_store_pb2\n",
    "from google.cloud.aiplatform_v1beta1.types import feature_view as feature_view_pb2"
   ]
  },
  {
   "cell_type": "code",
   "execution_count": 5,
   "id": "707c276a-f303-4019-b9a1-47d57678b408",
   "metadata": {
    "tags": []
   },
   "outputs": [],
   "source": [
    "from google.cloud.aiplatform_v1beta1.types import feature_online_store_admin_service as feature_online_store_admin_service_pb2\n",
    "from google.cloud.aiplatform_v1beta1.types import feature_registry_service as feature_registry_service_pb2\n",
    "from google.cloud.aiplatform_v1beta1.types import featurestore_service as featurestore_service_pb2\n",
    "from google.cloud.aiplatform_v1beta1.types import io as io_pb2\n",
    "from google.cloud.aiplatform_v1beta1.types import service_networking as service_networking_pb2\n",
    "from vertexai.resources.preview import (FeatureOnlineStore, FeatureView,FeatureViewBigQuerySource)\n",
    "     "
   ]
  },
  {
   "cell_type": "code",
   "execution_count": 18,
   "id": "4f8327f6-e207-479c-8b11-27e674d48b36",
   "metadata": {
    "tags": []
   },
   "outputs": [],
   "source": [
    "feature_extract_query = \"\"\"\n",
    "CREATE OR REPLACE TABLE `innov-mtwr-6eqv-1.bq_feature_store2.product_data` AS\n",
    "WITH\n",
    " product_order_agg AS (\n",
    "   SELECT cast(product_id as string) as entity_id,\n",
    "     countif(status in (\"Shipped\", \"Complete\")) as good_order_count,\n",
    "     countif(status in (\"Returned\", \"Cancelled\")) as bad_order_count\n",
    "   FROM `bigquery-public-data.thelook_ecommerce.order_items`\n",
    "   WHERE\n",
    "     timestamp_trunc(created_at, day) >= timestamp_trunc(timestamp_sub(CURRENT_TIMESTAMP(), interval 30 day), day) and\n",
    "     timestamp_trunc(created_at, day) < timestamp_trunc(CURRENT_TIMESTAMP(), day)\n",
    "   group by 1\n",
    "   order by entity_id), \n",
    " product_basic AS (\n",
    "   SELECT cast(id as string) AS entity_id,\n",
    "     lower(name) as name,\n",
    "     lower(category) as category,\n",
    "     lower(brand) as brand,\n",
    "     cost,\n",
    "     retail_price\n",
    "   FROM  `bigquery-public-data.thelook_ecommerce.products`)\n",
    "SELECT product_basic.entity_id,name,category,brand,cost,retail_price,good_order_count,bad_order_count, current_timestamp() as feature_timestamp\n",
    "FROM product_basic\n",
    "LEFT OUTER JOIN product_order_agg\n",
    "USING (entity_id)\n",
    "\"\"\""
   ]
  },
  {
   "cell_type": "code",
   "execution_count": 19,
   "id": "a9d053b7-cb3d-4523-8010-c98cf4915bc7",
   "metadata": {
    "tags": []
   },
   "outputs": [],
   "source": [
    "PROJECT_ID   = 'innov-mtwr-6eqv-1'\n",
    "LOCATION     = \"us-central1\"  # @param {type:\"string\"}\n",
    "API_ENDPOINT = f\"{LOCATION}-aiplatform.googleapis.com\"\n",
    "\n",
    "from google.cloud import aiplatform\n",
    "aiplatform.init(project=PROJECT_ID, location=LOCATION)"
   ]
  },
  {
   "cell_type": "code",
   "execution_count": 20,
   "id": "ad15ec9a-c5da-43b4-aa7c-f3068019bba4",
   "metadata": {
    "tags": []
   },
   "outputs": [],
   "source": [
    "bq_client = bigquery.Client(project=PROJECT_ID)"
   ]
  },
  {
   "cell_type": "code",
   "execution_count": null,
   "id": "52e6ad41-5e5b-4eed-bd58-47211379ee6c",
   "metadata": {
    "tags": []
   },
   "outputs": [],
   "source": [
    "job = bq_client.query_and_wait(query=feature_extract_query)"
   ]
  },
  {
   "cell_type": "code",
   "execution_count": null,
   "id": "a901be31-b028-45dd-b60d-a5ab8ebacd3e",
   "metadata": {
    "tags": []
   },
   "outputs": [],
   "source": [
    "product_data = bq_client.query(feature_extract_query).result().to_dataframe()"
   ]
  },
  {
   "cell_type": "code",
   "execution_count": null,
   "id": "6df663e9-b899-4c90-9086-09fc07ca0b35",
   "metadata": {
    "tags": []
   },
   "outputs": [],
   "source": [
    "print(product_data.shape)\n",
    "product_data.head()"
   ]
  },
  {
   "cell_type": "code",
   "execution_count": null,
   "id": "2399b376-e84e-42da-9b6b-4dc0fdd78a8f",
   "metadata": {
    "tags": []
   },
   "outputs": [],
   "source": [
    "product_data.dtypes"
   ]
  },
  {
   "cell_type": "code",
   "execution_count": null,
   "id": "7056f51c-d633-41dc-a525-9a380d8cfb56",
   "metadata": {
    "tags": []
   },
   "outputs": [],
   "source": [
    "BQ_VIEW_ID = \"innov-mtwr-6eqv-1.bq_feature_store2.product_features\"  # @param {type:\"string\"}\n",
    "view = bigquery.Table(BQ_VIEW_ID)\n",
    "view.view_query = feature_extract_query\n",
    "view = bq_client.create_table(view, exists_ok=True)\n",
    "\n",
    "print(f\"Created {view.table_type}: {str(view.reference)}\")"
   ]
  },
  {
   "cell_type": "markdown",
   "id": "a45da7c7-6881-4ecf-b5bb-789c7b318ed8",
   "metadata": {},
   "source": [
    "### Set up and start online serving"
   ]
  },
  {
   "cell_type": "raw",
   "id": "2bb2b465-6b58-4c3a-b34f-ee403d08fb79",
   "metadata": {},
   "source": [
    "Now for the exciting part! To serve data in a feature store, you need to do the following:\n",
    "\n",
    "1. Create an online store cluster to host the data.\n",
    "        Create a FeatureOnlineStore instance with autoscaling.\n",
    "        Choose Optimized as the storage type.\n",
    "        \n",
    "2. Define the data (FeatureView) to be served by the newly-created instance. This can map to either of the following:\n",
    "        The BigQuery view that you just created for serving data.\n",
    "        The FeatureGroup and Feature that you create to host feature metadata.\n",
    "\n",
    "It is not recommended to send loads larger than 7500 QPS to one FeatureOnlineStore. In general, you can create multiple gRPC connections to one FeatureOnlineStore, and evenly distribute your loads across them. More connections and smaller per-connection QPS typically help with internal load balancing and scaling, reducing the chance of seeing higher tail-latencies. Specifically:\n",
    "\n",
    "1. If your FetchFeatureValues response payload size is small (e.g. less than 1 kB), you may create one connection for up to every 2000 QPS.\n",
    "\n",
    "2. If your FetchFeatureValues response payload size is large (e.g. more than a few kB or 10s of kB), you may create one connection for up to every 250 QPS. It is recommended to avoid sudden increases of loads."
   ]
  },
  {
   "cell_type": "markdown",
   "id": "3c91bf79-5feb-44bf-8861-52243637c563",
   "metadata": {},
   "source": [
    "### Initialize Admin Service Client"
   ]
  },
  {
   "cell_type": "code",
   "execution_count": 21,
   "id": "624efabc-49bf-41c1-8272-4692e032d2a6",
   "metadata": {
    "tags": []
   },
   "outputs": [],
   "source": [
    "admin_client    = FeatureOnlineStoreAdminServiceClient( client_options={\"api_endpoint\": API_ENDPOINT})\n",
    "\n",
    "registry_client = FeatureRegistryServiceClient(client_options={\"api_endpoint\": API_ENDPOINT})"
   ]
  },
  {
   "cell_type": "markdown",
   "id": "c507fe04-0a79-4a45-b265-2c84ec71c2be",
   "metadata": {},
   "source": [
    "## Create online store instance"
   ]
  },
  {
   "cell_type": "raw",
   "id": "d1f062f5-3c57-47f2-be78-9ad323e0386c",
   "metadata": {
    "tags": []
   },
   "source": [
    "To create an online store instance, you can choose any one of the following options:\n",
    "\n",
    "    Option 1: Create a FeatureOnlineStore instance for Optimized online serving with a private endpoint.\n",
    "\n",
    "    Option 2: Create a FeatureOnlineStore instance for Optimized online serving with a public endpoint."
   ]
  },
  {
   "cell_type": "markdown",
   "id": "3c6f75fc-fd06-416b-855a-d641c0053896",
   "metadata": {},
   "source": [
    "### Option 1: Create an online store instance for Optimized online serving with private endpoint"
   ]
  },
  {
   "cell_type": "code",
   "execution_count": null,
   "id": "209a7572-0888-4004-83d8-6fb42801690f",
   "metadata": {
    "tags": []
   },
   "outputs": [],
   "source": [
    "FEATURE_ONLINE_STORE_ID = \"thelook_opt_private_unique\"  # @param {type:\"string\"}\n",
    "ALLOW_LISTED_PROJECT    = f\"{PROJECT_ID}\"  # @param {type:\"string\"}\n",
    "\n",
    "online_store_config = feature_online_store_pb2.FeatureOnlineStore(\n",
    "                                            optimized=feature_online_store_pb2.FeatureOnlineStore.Optimized(),\n",
    "                                            dedicated_serving_endpoint=feature_online_store_pb2.FeatureOnlineStore.DedicatedServingEndpoint( private_service_connect_config=service_networking_pb2.PrivateServiceConnectConfig( enable_private_service_connect=True, project_allowlist=[ALLOW_LISTED_PROJECT,], )),\n",
    ")\n",
    "\n",
    "create_store_lro = admin_client.create_feature_online_store(\n",
    "    feature_online_store_admin_service_pb2.CreateFeatureOnlineStoreRequest(\n",
    "        parent                   = f\"projects/{PROJECT_ID}/locations/{LOCATION}\",\n",
    "        feature_online_store_id  = FEATURE_ONLINE_STORE_ID,\n",
    "        feature_online_store     = online_store_config,\n",
    "    )\n",
    ")\n",
    "\n",
    "print(create_store_lro.result())"
   ]
  },
  {
   "cell_type": "code",
   "execution_count": null,
   "id": "a9342969-7849-47b6-b25b-c0b7a2294772",
   "metadata": {
    "tags": []
   },
   "outputs": [],
   "source": [
    "FeatureOnlineStore(FEATURE_ONLINE_STORE_ID)"
   ]
  },
  {
   "cell_type": "code",
   "execution_count": 7,
   "id": "29c5c6ca-e5f6-4a73-b7e0-f1e29a6b7159",
   "metadata": {
    "tags": []
   },
   "outputs": [
    {
     "data": {
      "text/plain": [
       "[<vertexai.resources.preview.feature_store.feature_online_store.FeatureOnlineStore object at 0x7f6d48ca5fc0> \n",
       " resource name: projects/932910293196/locations/us-central1/featureOnlineStores/thelook_opt_private_unique]"
      ]
     },
     "execution_count": 7,
     "metadata": {},
     "output_type": "execute_result"
    }
   ],
   "source": [
    "FeatureOnlineStore.list()"
   ]
  },
  {
   "cell_type": "code",
   "execution_count": 32,
   "id": "c50899ec-ca6d-411e-87e6-65814e07fd62",
   "metadata": {
    "tags": []
   },
   "outputs": [],
   "source": [
    "FEATURE_ONLINE_STORE_ID = 'projects/932910293196/locations/us-central1/featureOnlineStores/thelook_opt_private_unique'"
   ]
  },
  {
   "cell_type": "markdown",
   "id": "4b5eee5c-30d2-40a9-8da5-c682a175404b",
   "metadata": {},
   "source": [
    "### Create feature view instance"
   ]
  },
  {
   "cell_type": "raw",
   "id": "3de0c0a9-c11a-45e1-a3aa-76d02e78dc39",
   "metadata": {},
   "source": [
    "After creating a FeatureOnlineStore instance, you can define the features to serve with it. To do this, create a FeatureView instance, which specifies the following:\n",
    "\n",
    "    A data source (BigQuery table or view URI or FeatureGroup/features ) synced to the FeatureOnlineStore instance for serving.\n",
    "\n",
    "    The Cron schedule to run the sync pipeline."
   ]
  },
  {
   "cell_type": "code",
   "execution_count": 14,
   "id": "4b862775-f098-45e6-b65d-fa6558da81fa",
   "metadata": {
    "tags": []
   },
   "outputs": [],
   "source": [
    "# Create FeatureView\n",
    "FEATURE_VIEW_ID = \"product_ftr_vw\"  # @param {type:\"string\"}"
   ]
  },
  {
   "cell_type": "code",
   "execution_count": 11,
   "id": "ee06f403-98af-4fb6-97cd-1a320b4a8878",
   "metadata": {
    "tags": []
   },
   "outputs": [],
   "source": [
    "my_fos = FeatureOnlineStore(FEATURE_ONLINE_STORE_ID)"
   ]
  },
  {
   "cell_type": "code",
   "execution_count": 12,
   "id": "12ad32a0-daef-4171-b193-7a1891332d7c",
   "metadata": {
    "tags": []
   },
   "outputs": [
    {
     "data": {
      "text/plain": [
       "<vertexai.resources.preview.feature_store.feature_online_store.FeatureOnlineStore object at 0x7f6d31d83ee0> \n",
       "resource name: projects/932910293196/locations/us-central1/featureOnlineStores/thelook_opt_private_unique"
      ]
     },
     "execution_count": 12,
     "metadata": {},
     "output_type": "execute_result"
    }
   ],
   "source": [
    "my_fos"
   ]
  },
  {
   "cell_type": "code",
   "execution_count": 15,
   "id": "d632cd7d-263a-4a05-859b-c3f69d7fab79",
   "metadata": {
    "tags": []
   },
   "outputs": [
    {
     "name": "stdout",
     "output_type": "stream",
     "text": [
      "Creating FeatureView\n",
      "Create FeatureView backing LRO: projects/932910293196/locations/us-central1/featureOnlineStores/thelook_opt_private_unique/featureViews/product_ftr_vw/operations/8586254835819479040\n",
      "FeatureView created. Resource name: projects/932910293196/locations/us-central1/featureOnlineStores/thelook_opt_private_unique/featureViews/product_ftr_vw\n",
      "To use this FeatureView in another session:\n",
      "feature_view = aiplatform.FeatureView('projects/932910293196/locations/us-central1/featureOnlineStores/thelook_opt_private_unique/featureViews/product_ftr_vw')\n"
     ]
    }
   ],
   "source": [
    "my_fv = my_fos.create_feature_view( FEATURE_VIEW_ID,\n",
    "                                    FeatureViewBigQuerySource(uri=\"bq://innov-mtwr-6eqv-1.bq_feature_store2.product_data\", entity_id_columns=[\"entity_id\"], ),\n",
    "                                    # sync_config can be set with CRON_SCHEDULE if you want to setup auto sync\n",
    "                                    sync_config=None,\n",
    "                                  )"
   ]
  },
  {
   "cell_type": "markdown",
   "id": "29d193ff-ba65-4727-9940-dc08b093fb75",
   "metadata": {},
   "source": [
    "### Option 2: Create featureView with FeatureGroups/Feature"
   ]
  },
  {
   "cell_type": "markdown",
   "id": "1c6df21a-7cf3-4655-9e97-5fbd0efc52c8",
   "metadata": {},
   "source": [
    "#### Create FeatureGroup/Features"
   ]
  },
  {
   "cell_type": "code",
   "execution_count": 16,
   "id": "9447d411-dba3-4aa1-9984-a8147a3b1fec",
   "metadata": {
    "tags": []
   },
   "outputs": [],
   "source": [
    "FEATURE_GROUP_ID = \"product_features_unique\"  # @param {type: \"string\"}\n",
    "FEATURE_IDS = [\n",
    "    \"good_order_count\",\n",
    "    \"bad_order_count\",\n",
    "    \"category\",\n",
    "    \"name\",\n",
    "    \"brand\",\n",
    "    \"cost\",\n",
    "    \"retail_price\",\n",
    "]"
   ]
  },
  {
   "cell_type": "code",
   "execution_count": 22,
   "id": "7afb4ec8-b55a-432f-aacc-5886c5860a96",
   "metadata": {
    "tags": []
   },
   "outputs": [],
   "source": [
    "# Now, create the featureGroup\n",
    "\n",
    "feature_group_config = feature_group_pb2.FeatureGroup(\n",
    "    big_query=feature_group_pb2.FeatureGroup.BigQuery(big_query_source=io_pb2.BigQuerySource(input_uri=\"bq://innov-mtwr-6eqv-1.bq_feature_store2.product_data\")\n",
    "    )\n",
    ")\n",
    "\n",
    "create_group_lro = registry_client.create_feature_group(\n",
    "    feature_registry_service_pb2.CreateFeatureGroupRequest(\n",
    "                                                            parent            = f\"projects/{PROJECT_ID}/locations/{LOCATION}\",\n",
    "                                                            feature_group_id  = FEATURE_GROUP_ID,\n",
    "                                                            feature_group     = feature_group_config,\n",
    "                                                          )\n",
    "                                                        )\n",
    "    "
   ]
  },
  {
   "cell_type": "code",
   "execution_count": 23,
   "id": "5e5842e4-a8b8-4558-bc2d-fd2fc55cd4d8",
   "metadata": {
    "tags": []
   },
   "outputs": [
    {
     "name": "stdout",
     "output_type": "stream",
     "text": [
      "name: \"projects/932910293196/locations/us-central1/featureGroups/product_features_unique\"\n",
      "\n"
     ]
    }
   ],
   "source": [
    "print(create_group_lro.result())"
   ]
  },
  {
   "cell_type": "code",
   "execution_count": 24,
   "id": "46d95cbb-4bf4-45c5-a67e-d6a9c43c2a0d",
   "metadata": {
    "tags": []
   },
   "outputs": [],
   "source": [
    "create_feature_lros = []\n",
    "for id in FEATURE_IDS:\n",
    "    create_feature_lros.append(\n",
    "        registry_client.create_feature(\n",
    "            featurestore_service_pb2.CreateFeatureRequest(\n",
    "                parent=f\"projects/{PROJECT_ID}/locations/{LOCATION}/featureGroups/{FEATURE_GROUP_ID}\",\n",
    "                feature_id=id,\n",
    "                feature=feature_pb2.Feature(),\n",
    "            )\n",
    "        )\n",
    "    )"
   ]
  },
  {
   "cell_type": "code",
   "execution_count": 25,
   "id": "dd72b73f-261c-4853-ac2f-6c7c220cf1f6",
   "metadata": {
    "tags": []
   },
   "outputs": [
    {
     "name": "stdout",
     "output_type": "stream",
     "text": [
      "name: \"projects/932910293196/locations/us-central1/featureGroups/product_features_unique/features/good_order_count\"\n",
      "\n",
      "name: \"projects/932910293196/locations/us-central1/featureGroups/product_features_unique/features/bad_order_count\"\n",
      "\n",
      "name: \"projects/932910293196/locations/us-central1/featureGroups/product_features_unique/features/category\"\n",
      "\n",
      "name: \"projects/932910293196/locations/us-central1/featureGroups/product_features_unique/features/name\"\n",
      "\n",
      "name: \"projects/932910293196/locations/us-central1/featureGroups/product_features_unique/features/brand\"\n",
      "\n",
      "name: \"projects/932910293196/locations/us-central1/featureGroups/product_features_unique/features/cost\"\n",
      "\n",
      "name: \"projects/932910293196/locations/us-central1/featureGroups/product_features_unique/features/retail_price\"\n",
      "\n"
     ]
    }
   ],
   "source": [
    "for lro in create_feature_lros:\n",
    "    print(lro.result())"
   ]
  },
  {
   "cell_type": "code",
   "execution_count": null,
   "id": "d09c353a-7572-4e47-8ae5-40d7673f90ea",
   "metadata": {},
   "outputs": [],
   "source": []
  },
  {
   "cell_type": "code",
   "execution_count": 28,
   "id": "5f18d54b-aa8f-4016-9d23-a96107beeb10",
   "metadata": {
    "tags": []
   },
   "outputs": [],
   "source": [
    "FEATURE_VIEW_ID = \"registry_product_ftr_vw\"  # @param {type:\"string\"}\n",
    "CRON_SCHEDULE = \"TZ=America/Los_Angeles 56 * * * *\"  # @param {type:\"string\"}"
   ]
  },
  {
   "cell_type": "code",
   "execution_count": 35,
   "id": "c84bb95f-7273-45b0-9440-42196e388f12",
   "metadata": {
    "tags": []
   },
   "outputs": [],
   "source": [
    "feature_registry_source = feature_view_pb2.FeatureView.FeatureRegistrySource(\n",
    "    feature_groups=[\n",
    "        feature_view_pb2.FeatureView.FeatureRegistrySource.FeatureGroup(\n",
    "            feature_group_id=FEATURE_GROUP_ID, feature_ids=FEATURE_IDS\n",
    "        )\n",
    "    ]\n",
    ")"
   ]
  },
  {
   "cell_type": "code",
   "execution_count": 36,
   "id": "28ee470b-0fa6-4801-a8eb-b095b51e1a92",
   "metadata": {
    "tags": []
   },
   "outputs": [],
   "source": [
    "sync_config = feature_view_pb2.FeatureView.SyncConfig(cron=CRON_SCHEDULE)"
   ]
  },
  {
   "cell_type": "code",
   "execution_count": 39,
   "id": "37648ed9-6cd4-42bd-a2c8-05fb50a31ac9",
   "metadata": {
    "tags": []
   },
   "outputs": [
    {
     "data": {
      "text/plain": [
       "'projects/932910293196/locations/us-central1/featureOnlineStores/thelook_opt_private_unique'"
      ]
     },
     "execution_count": 39,
     "metadata": {},
     "output_type": "execute_result"
    }
   ],
   "source": [
    "FEATURE_ONLINE_STORE_ID"
   ]
  },
  {
   "cell_type": "code",
   "execution_count": 40,
   "id": "59783212-c8d4-4f1b-b8ef-b674a975b8fe",
   "metadata": {
    "tags": []
   },
   "outputs": [
    {
     "name": "stdout",
     "output_type": "stream",
     "text": [
      "name: \"projects/932910293196/locations/us-central1/featureOnlineStores/thelook_opt_private_unique/featureViews/registry_product_ftr_vw\"\n",
      "\n"
     ]
    }
   ],
   "source": [
    "create_view_lro = admin_client.create_feature_view(\n",
    "    feature_online_store_admin_service_pb2.CreateFeatureViewRequest(\n",
    "                                    #parent=f\"projects/{PROJECT_ID}/locations/{LOCATION}/featureOnlineStores/{FEATURE_ONLINE_STORE_ID}\",\n",
    "                                    parent=FEATURE_ONLINE_STORE_ID,\n",
    "                                    feature_view_id=FEATURE_VIEW_ID,\n",
    "                                    feature_view=feature_view_pb2.FeatureView( feature_registry_source=feature_registry_source, sync_config=sync_config,)\n",
    "                                )\n",
    ")\n",
    "\n",
    "# Wait for LRO to complete and show result\n",
    "print(create_view_lro.result())"
   ]
  },
  {
   "cell_type": "markdown",
   "id": "9c4e6433-332b-4965-9596-d1e7ec70c718",
   "metadata": {},
   "source": [
    "### Verify FeatureView instance creation"
   ]
  },
  {
   "cell_type": "code",
   "execution_count": 42,
   "id": "0b413fa6-0ec4-4863-be06-96503888a39a",
   "metadata": {
    "tags": []
   },
   "outputs": [
    {
     "data": {
      "text/plain": [
       "ListFeatureViewsPager<feature_views {\n",
       "  name: \"projects/932910293196/locations/us-central1/featureOnlineStores/thelook_opt_private_unique/featureViews/registry_product_ftr_vw\"\n",
       "  create_time {\n",
       "    seconds: 1717884874\n",
       "    nanos: 623047000\n",
       "  }\n",
       "  update_time {\n",
       "    seconds: 1717884875\n",
       "    nanos: 736456000\n",
       "  }\n",
       "  etag: \"AMEw9yO6OS0f_MgA5dgP7PB2uXvBIqd9z1Jfsr2-CrbMNBUElus3DykfUaWlYuhRttnu\"\n",
       "  sync_config {\n",
       "    cron: \"TZ=America/Los_Angeles 56 * * * *\"\n",
       "  }\n",
       "  feature_registry_source {\n",
       "    feature_groups {\n",
       "      feature_group_id: \"product_features_unique\"\n",
       "      feature_ids: \"good_order_count\"\n",
       "      feature_ids: \"bad_order_count\"\n",
       "      feature_ids: \"category\"\n",
       "      feature_ids: \"name\"\n",
       "      feature_ids: \"brand\"\n",
       "      feature_ids: \"cost\"\n",
       "      feature_ids: \"retail_price\"\n",
       "    }\n",
       "  }\n",
       "}\n",
       "feature_views {\n",
       "  name: \"projects/932910293196/locations/us-central1/featureOnlineStores/thelook_opt_private_unique/featureViews/product_ftr_vw\"\n",
       "  create_time {\n",
       "    seconds: 1717883280\n",
       "    nanos: 192094000\n",
       "  }\n",
       "  update_time {\n",
       "    seconds: 1717883281\n",
       "    nanos: 106434000\n",
       "  }\n",
       "  etag: \"AMEw9yMfai6N68DUegtbLiUk9UR57lOvyJYt1KYkk1haGZats26Ln8iVq7Av_3QxfYc=\"\n",
       "  big_query_source {\n",
       "    uri: \"bq://innov-mtwr-6eqv-1.bq_feature_store2.product_data\"\n",
       "    entity_id_columns: \"entity_id\"\n",
       "  }\n",
       "}\n",
       ">"
      ]
     },
     "execution_count": 42,
     "metadata": {},
     "output_type": "execute_result"
    }
   ],
   "source": [
    "# Again, list all feature view under the FEATURE_ONLINE_STORE_ID to confirm\n",
    "admin_client.list_feature_views(\n",
    "    #parent=f\"projects/{PROJECT_ID}/locations/{LOCATION}/featureOnlineStores/{FEATURE_ONLINE_STORE_ID}\"\n",
    "    parent=FEATURE_ONLINE_STORE_ID\n",
    ")"
   ]
  },
  {
   "cell_type": "code",
   "execution_count": 43,
   "id": "355b7e77-6080-4e2e-a9e5-9119b7a600e4",
   "metadata": {
    "tags": []
   },
   "outputs": [],
   "source": [
    "fv_list = FeatureView.list(feature_online_store_id=FEATURE_ONLINE_STORE_ID)"
   ]
  },
  {
   "cell_type": "code",
   "execution_count": 45,
   "id": "925e8cbe-79b8-48a6-a019-a4cc530c45d2",
   "metadata": {
    "tags": []
   },
   "outputs": [
    {
     "name": "stdout",
     "output_type": "stream",
     "text": [
      "registry_product_ftr_vw\n",
      "name: \"projects/932910293196/locations/us-central1/featureOnlineStores/thelook_opt_private_unique/featureViews/registry_product_ftr_vw\"\n",
      "create_time {\n",
      "  seconds: 1717884874\n",
      "  nanos: 623047000\n",
      "}\n",
      "update_time {\n",
      "  seconds: 1717884875\n",
      "  nanos: 736456000\n",
      "}\n",
      "etag: \"AMEw9yOZ3JbVjinmNt9qB2XM4GaiQX5zML01tWehvm_kYi38_cJ9dYdpqhtstkO6RvtE\"\n",
      "sync_config {\n",
      "  cron: \"TZ=America/Los_Angeles 56 * * * *\"\n",
      "}\n",
      "feature_registry_source {\n",
      "  feature_groups {\n",
      "    feature_group_id: \"product_features_unique\"\n",
      "    feature_ids: \"good_order_count\"\n",
      "    feature_ids: \"bad_order_count\"\n",
      "    feature_ids: \"category\"\n",
      "    feature_ids: \"name\"\n",
      "    feature_ids: \"brand\"\n",
      "    feature_ids: \"cost\"\n",
      "    feature_ids: \"retail_price\"\n",
      "  }\n",
      "}\n",
      "\n",
      "product_ftr_vw\n",
      "name: \"projects/932910293196/locations/us-central1/featureOnlineStores/thelook_opt_private_unique/featureViews/product_ftr_vw\"\n",
      "create_time {\n",
      "  seconds: 1717883280\n",
      "  nanos: 192094000\n",
      "}\n",
      "update_time {\n",
      "  seconds: 1717883281\n",
      "  nanos: 106434000\n",
      "}\n",
      "etag: \"AMEw9yNF1zj2ClYFW_Tw6qzrZznl-PzzJhkYHXCSXvX9MNYM28be9kJ7uJ2uzw-PNek=\"\n",
      "big_query_source {\n",
      "  uri: \"bq://innov-mtwr-6eqv-1.bq_feature_store2.product_data\"\n",
      "  entity_id_columns: \"entity_id\"\n",
      "}\n",
      "\n"
     ]
    }
   ],
   "source": [
    "for fv in fv_list:\n",
    "    print(fv.name)\n",
    "    print(fv.gca_resource)"
   ]
  },
  {
   "cell_type": "code",
   "execution_count": 49,
   "id": "fb46be88-138a-4d51-a646-4e883444bbf7",
   "metadata": {
    "tags": []
   },
   "outputs": [],
   "source": [
    "my_fv =FeatureView('projects/932910293196/locations/us-central1/featureOnlineStores/thelook_opt_private_unique/featureViews/registry_product_ftr_vw')\n",
    "     "
   ]
  },
  {
   "cell_type": "code",
   "execution_count": 50,
   "id": "59250439-3004-4ef8-a685-60170ede12b0",
   "metadata": {
    "tags": []
   },
   "outputs": [
    {
     "data": {
      "text/plain": [
       "<vertexai.resources.preview.feature_store.feature_view.FeatureView object at 0x7f6d286e34c0> \n",
       "resource name: projects/932910293196/locations/us-central1/featureOnlineStores/thelook_opt_private_unique/featureViews/registry_product_ftr_vw"
      ]
     },
     "execution_count": 50,
     "metadata": {},
     "output_type": "execute_result"
    }
   ],
   "source": [
    "my_fv"
   ]
  },
  {
   "cell_type": "code",
   "execution_count": 51,
   "id": "3f3f39e1-6c3c-430d-9a7c-14d20b72cefb",
   "metadata": {
    "tags": []
   },
   "outputs": [],
   "source": [
    "# Sync the FeatureView\n",
    "fv_sync = my_fv.sync()"
   ]
  },
  {
   "cell_type": "code",
   "execution_count": 54,
   "id": "40cafc55-2831-4846-b2e9-21231cf39960",
   "metadata": {
    "tags": []
   },
   "outputs": [
    {
     "data": {
      "text/plain": [
       "<vertexai.resources.preview.feature_store.feature_view.FeatureView.FeatureViewSync object at 0x7f6d286d5360> \n",
       "resource name: projects/932910293196/locations/us-central1/featureOnlineStores/thelook_opt_private_unique/featureViews/registry_product_ftr_vw/featureViewSyncs/4542907219603095552"
      ]
     },
     "execution_count": 54,
     "metadata": {},
     "output_type": "execute_result"
    }
   ],
   "source": [
    "fv_sync"
   ]
  },
  {
   "cell_type": "code",
   "execution_count": 53,
   "id": "951cdf60-76c1-4856-9012-d4c6e5e0ae42",
   "metadata": {
    "tags": []
   },
   "outputs": [
    {
     "name": "stdout",
     "output_type": "stream",
     "text": [
      "Sync ongoing, waiting for 30 seconds.\n",
      "Sync ongoing, waiting for 30 seconds.\n",
      "Sync ongoing, waiting for 30 seconds.\n",
      "Sync ongoing, waiting for 30 seconds.\n",
      "Sync ongoing, waiting for 30 seconds.\n",
      "Sync ongoing, waiting for 30 seconds.\n",
      "Sync ongoing, waiting for 30 seconds.\n",
      "Sync ongoing, waiting for 30 seconds.\n",
      "Sync ongoing, waiting for 30 seconds.\n",
      "Sync ongoing, waiting for 30 seconds.\n",
      "Sync ongoing, waiting for 30 seconds.\n",
      "Sync ongoing, waiting for 30 seconds.\n",
      "Sync ongoing, waiting for 30 seconds.\n",
      "Sync ongoing, waiting for 30 seconds.\n",
      "Sync Succeed for projects/932910293196/locations/us-central1/featureOnlineStores/thelook_opt_private_unique/featureViews/registry_product_ftr_vw/featureViewSyncs/4542907219603095552.\n"
     ]
    }
   ],
   "source": [
    "import time\n",
    "\n",
    "while True:\n",
    "    feature_view_sync = my_fv.get_sync(fv_sync.resource_name.split(\"/\")[9]).gca_resource\n",
    "    if feature_view_sync.run_time.end_time.seconds > 0:\n",
    "        status = \"Succeed\" if feature_view_sync.final_status.code == 0 else \"Failed\"\n",
    "        print(f\"Sync {status} for {feature_view_sync.name}.\")\n",
    "        # wait a little more for the job to properly shutdown\n",
    "        time.sleep(30)\n",
    "        break\n",
    "    else:\n",
    "        print(\"Sync ongoing, waiting for 30 seconds.\")\n",
    "    time.sleep(30)"
   ]
  },
  {
   "cell_type": "code",
   "execution_count": null,
   "id": "53b43255-d9dc-4ccd-b8fd-61150db2ffb9",
   "metadata": {},
   "outputs": [],
   "source": []
  },
  {
   "cell_type": "code",
   "execution_count": 55,
   "id": "3fd82b56-2e3f-4535-9f2f-1df12cd3d123",
   "metadata": {
    "tags": []
   },
   "outputs": [
    {
     "data": {
      "text/plain": [
       "name: \"projects/932910293196/locations/us-central1/featureOnlineStores/thelook_opt_private_unique\"\n",
       "create_time {\n",
       "  seconds: 1717881252\n",
       "  nanos: 109462000\n",
       "}\n",
       "update_time {\n",
       "  seconds: 1717881252\n",
       "  nanos: 184087000\n",
       "}\n",
       "etag: \"AMEw9yM66B8k3lFNCn1wwHlpZHfP1PEtdPVOxOLOqf44Z6Wdupf0YNZ7SORWYPJLK7k=\"\n",
       "state: STABLE\n",
       "dedicated_serving_endpoint {\n",
       "  private_service_connect_config {\n",
       "    enable_private_service_connect: true\n",
       "    project_allowlist: \"innov-mtwr-6eqv-1\"\n",
       "  }\n",
       "  service_attachment: \"projects/z2e035513e31d706e-tp/regions/us-central1/serviceAttachments/gkedpm-ed36888bd5615ebe09511e751234a9-sa\"\n",
       "}\n",
       "embedding_management {\n",
       "  enabled: true\n",
       "}\n",
       "optimized {\n",
       "}"
      ]
     },
     "execution_count": 55,
     "metadata": {},
     "output_type": "execute_result"
    }
   ],
   "source": [
    "# Get Optimized online store\n",
    "admin_client.get_feature_online_store(\n",
    "    name=FEATURE_ONLINE_STORE_ID\n",
    ")"
   ]
  },
  {
   "cell_type": "code",
   "execution_count": null,
   "id": "97518475-fda7-47ce-8058-e4aa5a5fc0cc",
   "metadata": {},
   "outputs": [],
   "source": []
  },
  {
   "cell_type": "code",
   "execution_count": null,
   "id": "18e04326-b851-4b07-8c30-438b45a3cb4e",
   "metadata": {},
   "outputs": [],
   "source": []
  },
  {
   "cell_type": "code",
   "execution_count": null,
   "id": "b3a6036f-4751-4fbf-a539-d94c71c9c113",
   "metadata": {},
   "outputs": [],
   "source": []
  },
  {
   "cell_type": "code",
   "execution_count": 56,
   "id": "85de9bd7-90a1-4926-86f6-f24c051f83fa",
   "metadata": {
    "tags": []
   },
   "outputs": [],
   "source": [
    "from google.cloud.aiplatform_v1beta1.services.feature_online_store_service.transports.grpc import FeatureOnlineStoreServiceGrpcTransport\n",
    "from google.cloud.aiplatform_v1beta1 import FeatureOnlineStoreServiceClient\n",
    "import grpc\n",
    "\n",
    "data_client = FeatureOnlineStoreServiceClient(\n",
    "    transport = FeatureOnlineStoreServiceGrpcTransport(\n",
    "        # Add the IP address of the Endpoint you just created.\n",
    "        channel = grpc.insecure_channel(\"10.0.0.19:10002\")\n",
    "    )\n",
    ")"
   ]
  },
  {
   "cell_type": "code",
   "execution_count": 59,
   "id": "affa01e9-deff-4621-b7ab-77fc32a7f950",
   "metadata": {
    "tags": []
   },
   "outputs": [],
   "source": [
    "from google.cloud.aiplatform_v1beta1.types import feature_online_store_service as feature_online_store_service_pb2"
   ]
  },
  {
   "cell_type": "code",
   "execution_count": 60,
   "id": "63ec0dc3-c9e4-4e9f-960c-78d3ecaf7385",
   "metadata": {
    "tags": []
   },
   "outputs": [],
   "source": [
    "FEATURE_ONLINE_STORE_ID = 'thelook_opt_private_unique'\n",
    "FEATURE_VIEW_ID         = 'registry_product_ftr_vw'"
   ]
  },
  {
   "cell_type": "code",
   "execution_count": 61,
   "id": "f0f844d5-2e2a-4c25-9331-9b21219e14bf",
   "metadata": {
    "tags": []
   },
   "outputs": [
    {
     "data": {
      "text/plain": [
       "key_values {\n",
       "  features {\n",
       "    name: \"feature_timestamp\"\n",
       "    value {\n",
       "      int64_value: 1717885174314456\n",
       "    }\n",
       "  }\n",
       "  features {\n",
       "    name: \"good_order_count\"\n",
       "    value {\n",
       "      int64_value: 2\n",
       "    }\n",
       "  }\n",
       "  features {\n",
       "    name: \"bad_order_count\"\n",
       "    value {\n",
       "      int64_value: 0\n",
       "    }\n",
       "  }\n",
       "  features {\n",
       "    name: \"category\"\n",
       "    value {\n",
       "      string_value: \"tops & tees\"\n",
       "    }\n",
       "  }\n",
       "  features {\n",
       "    name: \"name\"\n",
       "    value {\n",
       "      string_value: \"fred perry men\\'s sharp stripe t-shirt\"\n",
       "    }\n",
       "  }\n",
       "  features {\n",
       "    name: \"brand\"\n",
       "    value {\n",
       "      string_value: \"fred perry\"\n",
       "    }\n",
       "  }\n",
       "  features {\n",
       "    name: \"cost\"\n",
       "    value {\n",
       "      double_value: 36.30000002682209\n",
       "    }\n",
       "  }\n",
       "  features {\n",
       "    name: \"retail_price\"\n",
       "    value {\n",
       "      double_value: 60.0\n",
       "    }\n",
       "  }\n",
       "}"
      ]
     },
     "execution_count": 61,
     "metadata": {},
     "output_type": "execute_result"
    }
   ],
   "source": [
    "data_client.fetch_feature_values(\n",
    "    request=feature_online_store_service_pb2.FetchFeatureValuesRequest(\n",
    "        feature_view=f\"projects/{PROJECT_ID}/locations/{LOCATION}/featureOnlineStores/{FEATURE_ONLINE_STORE_ID}/featureViews/{FEATURE_VIEW_ID}\",\n",
    "        id=\"16050\"))"
   ]
  },
  {
   "cell_type": "code",
   "execution_count": null,
   "id": "bb164588-fcb8-4cbd-a925-b979c44bc95a",
   "metadata": {},
   "outputs": [],
   "source": [
    "my_fv =FeatureView('projects/932910293196/locations/us-central1/featureOnlineStores/thelook_opt_private_unique/featureViews/registry_product_ftr_vw')"
   ]
  }
 ],
 "metadata": {
  "environment": {
   "kernel": "python3",
   "name": "common-cpu.m121",
   "type": "gcloud",
   "uri": "us-docker.pkg.dev/deeplearning-platform-release/gcr.io/base-cpu:m121"
  },
  "kernelspec": {
   "display_name": "Python 3 (Local)",
   "language": "python",
   "name": "python3"
  },
  "language_info": {
   "codemirror_mode": {
    "name": "ipython",
    "version": 3
   },
   "file_extension": ".py",
   "mimetype": "text/x-python",
   "name": "python",
   "nbconvert_exporter": "python",
   "pygments_lexer": "ipython3",
   "version": "3.10.14"
  }
 },
 "nbformat": 4,
 "nbformat_minor": 5
}
